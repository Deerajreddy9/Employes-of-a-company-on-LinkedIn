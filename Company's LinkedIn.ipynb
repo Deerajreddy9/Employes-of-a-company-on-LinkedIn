{
 "cells": [
  {
   "cell_type": "code",
   "execution_count": null,
   "metadata": {},
   "outputs": [],
   "source": [
    "# prerequisite installs for Python3 \n",
    "#Download chromewebdriver\n",
    "'''pip3 install ipython \n",
    "pip3 install selenium  \n",
    "pip3 install time \n",
    "pip3 install parsel\n",
    "pip3 install csv'''\n"
   ]
  },
  {
   "cell_type": "code",
   "execution_count": null,
   "metadata": {},
   "outputs": [],
   "source": [
    "import pandas as pd\n",
    "import random\n",
    "import time"
   ]
  },
  {
   "cell_type": "code",
   "execution_count": null,
   "metadata": {},
   "outputs": [],
   "source": [
    "data = pd.DataFrame(columns=['Company Name', 'Employees on LinkedIn', \"Company's LinkedIn URL\"])"
   ]
  },
  {
   "cell_type": "code",
   "execution_count": null,
   "metadata": {},
   "outputs": [],
   "source": [
    "from selenium import webdriver\n",
    "# specifies the path to the chromedriver.exe\n",
    "driver = webdriver.Chrome('C:/Users/Admin/Downloads/chromedriver') #Change to your chrome web driver location\n",
    "\n",
    "# driver.get method() will navigate to a page given by the URL address\n",
    "driver.get('https://www.linkedin.com/directory/companies-a')\n",
    "\n",
    "driver.find_element_by_link_text(\"Sign in\").click()"
   ]
  },
  {
   "cell_type": "code",
   "execution_count": null,
   "metadata": {},
   "outputs": [],
   "source": [
    "username = driver.find_element_by_name('session_key')\n",
    "\n",
    "\n",
    "# for entering login credentials\n",
    "username.send_keys('Your Email id')#enter your emailid\n",
    "# locate password by name\n",
    "password = driver.find_element_by_name('session_password')\n",
    "\n",
    "# send_keys() to simulate key strokes\n",
    "password.send_keys('Your Password')#enter your password\n",
    "\n",
    "button = driver.find_element_by_class_name(\"submit-button\")\n",
    "button.click()\n",
    "time.sleep(10)"
   ]
  },
  {
   "cell_type": "code",
   "execution_count": null,
   "metadata": {},
   "outputs": [],
   "source": [
    "alpha = driver.find_elements_by_xpath(\"//li[@class='bucket-item']//a\")"
   ]
  },
  {
   "cell_type": "code",
   "execution_count": null,
   "metadata": {},
   "outputs": [],
   "source": [
    "words = []\n",
    "for lis in alpha:\n",
    "    print(lis.get_attribute('href'))\n",
    "    # Fetch and store the links\n",
    "    words.append(lis.get_attribute('href'))"
   ]
  },
  {
   "cell_type": "code",
   "execution_count": null,
   "metadata": {},
   "outputs": [],
   "source": [
    "driver.get(random.choice(words))"
   ]
  },
  {
   "cell_type": "code",
   "execution_count": null,
   "metadata": {},
   "outputs": [],
   "source": [
    "#To store the comapany linkedIn Urls into a list\n",
    "lists = driver.find_elements_by_xpath(\"//li[@class='content']//a\")"
   ]
  },
  {
   "cell_type": "code",
   "execution_count": null,
   "metadata": {},
   "outputs": [],
   "source": [
    "links = []\n",
    "for lis in lists:\n",
    "    print(lis.get_attribute('href'))\n",
    "    # Fetch and store the links\n",
    "    links.append(lis.get_attribute('href'))"
   ]
  },
  {
   "cell_type": "code",
   "execution_count": null,
   "metadata": {},
   "outputs": [],
   "source": [
    "len(links)"
   ]
  },
  {
   "cell_type": "code",
   "execution_count": null,
   "metadata": {},
   "outputs": [],
   "source": [
    "random.shuffle(links)"
   ]
  },
  {
   "cell_type": "code",
   "execution_count": null,
   "metadata": {
    "scrolled": true
   },
   "outputs": [],
   "source": [
    "links"
   ]
  },
  {
   "cell_type": "code",
   "execution_count": null,
   "metadata": {},
   "outputs": [],
   "source": [
    "# Loop through all the links and launch one by one \n",
    "l=0\n",
    "s=0\n",
    "size = len(links)\n",
    "\n",
    "while(l<1000 and s<size):\n",
    "    #for link in links:\n",
    "    l=l+1\n",
    "    driver.get(links[s])\n",
    "    time.sleep(1)\n",
    "    try:\n",
    "        driver.find_element_by_link_text(\"About\").click()\n",
    "        time.sleep(1)\n",
    "        raw = driver.find_element_by_class_name(\"org-page-details__employees-on-linkedin-count\").text\n",
    "        count=\"\"\n",
    "        for i in raw:\n",
    "            if(i.isdigit()):\n",
    "                count=count+i;\n",
    "            elif(i==','):\n",
    "                continue\n",
    "            else:\n",
    "                break\n",
    "        company = driver.find_element_by_class_name(\"org-top-card-summary__title\").text\n",
    "        linkedin = links[s]\n",
    "        print(company + ' ' + count + ' ' + linkedin )\n",
    "        data=data.append(pd.Series([company,count,linkedin], index=data.columns ), ignore_index=True)\n",
    "    except:\n",
    "        l=l-1\n",
    "    s=s+1\n",
    "    #time.sleep(3)\n",
    "driver.close()"
   ]
  },
  {
   "cell_type": "code",
   "execution_count": null,
   "metadata": {},
   "outputs": [],
   "source": [
    "data"
   ]
  },
  {
   "cell_type": "code",
   "execution_count": null,
   "metadata": {},
   "outputs": [],
   "source": [
    "#storing data into csv file\n",
    "data.to_csv('data.csv', index = False)"
   ]
  }
 ],
 "metadata": {
  "kernelspec": {
   "display_name": "Python 3",
   "language": "python",
   "name": "python3"
  },
  "language_info": {
   "codemirror_mode": {
    "name": "ipython",
    "version": 3
   },
   "file_extension": ".py",
   "mimetype": "text/x-python",
   "name": "python",
   "nbconvert_exporter": "python",
   "pygments_lexer": "ipython3",
   "version": "3.6.5"
  }
 },
 "nbformat": 4,
 "nbformat_minor": 2
}
